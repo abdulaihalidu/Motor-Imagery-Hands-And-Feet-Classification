{
 "cells": [
  {
   "cell_type": "markdown",
   "id": "1375b0b4",
   "metadata": {},
   "source": [
    "# Notebook imports"
   ]
  },
  {
   "cell_type": "code",
   "execution_count": 91,
   "id": "20a28b85",
   "metadata": {},
   "outputs": [],
   "source": [
    "import numpy as np\n",
    "import pandas as pd\n",
    "from scipy import signal\n",
    "import seaborn as sns\n",
    "\n",
    "\n",
    "import matplotlib.pyplot as plt\n",
    "\n",
    "from wyrm import plot as pt\n",
    "\n",
    "from sklearn.cluster import KMeans\n",
    "from sklearn.model_selection import train_test_split\n",
    "from sklearn.metrics import confusion_matrix, accuracy_score\n",
    "from sklearn.ensemble import RandomForestClassifier\n",
    "from sklearn.neighbors import KNeighborsClassifier\n",
    "\n",
    "from wyrm import processing as proc\n",
    "from wyrm.types import Data\n",
    "\n",
    "import warnings\n",
    "warnings.filterwarnings('ignore')"
   ]
  },
  {
   "cell_type": "markdown",
   "id": "732fd928",
   "metadata": {},
   "source": [
    "# Constants"
   ]
  },
  {
   "cell_type": "code",
   "execution_count": 92,
   "id": "f1e0918c",
   "metadata": {},
   "outputs": [],
   "source": [
    "DATA_FILE = \"preprocessed_motor_imagery.csv\"\n",
    "TRAIN_LABELS = \"train_labels.csv\"\n",
    "TEST_LABELS = \"test_labels.csv\""
   ]
  },
  {
   "cell_type": "markdown",
   "id": "c3afce48",
   "metadata": {},
   "source": [
    "# Load Data"
   ]
  },
  {
   "cell_type": "code",
   "execution_count": 93,
   "id": "c855e8e8",
   "metadata": {},
   "outputs": [
    {
     "data": {
      "text/html": [
       "<div>\n",
       "<style scoped>\n",
       "    .dataframe tbody tr th:only-of-type {\n",
       "        vertical-align: middle;\n",
       "    }\n",
       "\n",
       "    .dataframe tbody tr th {\n",
       "        vertical-align: top;\n",
       "    }\n",
       "\n",
       "    .dataframe thead th {\n",
       "        text-align: right;\n",
       "    }\n",
       "</style>\n",
       "<table border=\"1\" class=\"dataframe\">\n",
       "  <thead>\n",
       "    <tr style=\"text-align: right;\">\n",
       "      <th></th>\n",
       "      <th>1</th>\n",
       "      <th>2</th>\n",
       "      <th>3</th>\n",
       "      <th>4</th>\n",
       "      <th>5</th>\n",
       "      <th>6</th>\n",
       "      <th>7</th>\n",
       "      <th>8</th>\n",
       "    </tr>\n",
       "  </thead>\n",
       "  <tbody>\n",
       "    <tr>\n",
       "      <th>0</th>\n",
       "      <td>-750.803511</td>\n",
       "      <td>486.705886</td>\n",
       "      <td>16.329855</td>\n",
       "      <td>-934.211230</td>\n",
       "      <td>-226.426943</td>\n",
       "      <td>-527.669718</td>\n",
       "      <td>82.016818</td>\n",
       "      <td>645.467436</td>\n",
       "    </tr>\n",
       "    <tr>\n",
       "      <th>1</th>\n",
       "      <td>-4723.440890</td>\n",
       "      <td>3069.026544</td>\n",
       "      <td>116.509932</td>\n",
       "      <td>-5799.878400</td>\n",
       "      <td>-1401.575705</td>\n",
       "      <td>-3249.831866</td>\n",
       "      <td>520.220124</td>\n",
       "      <td>3985.649834</td>\n",
       "    </tr>\n",
       "    <tr>\n",
       "      <th>2</th>\n",
       "      <td>-12831.117329</td>\n",
       "      <td>8373.375049</td>\n",
       "      <td>365.076691</td>\n",
       "      <td>-15479.724786</td>\n",
       "      <td>-3743.864216</td>\n",
       "      <td>-8546.710003</td>\n",
       "      <td>1432.324527</td>\n",
       "      <td>10540.629666</td>\n",
       "    </tr>\n",
       "    <tr>\n",
       "      <th>3</th>\n",
       "      <td>-20211.000688</td>\n",
       "      <td>13285.273611</td>\n",
       "      <td>656.324083</td>\n",
       "      <td>-23913.357629</td>\n",
       "      <td>-5843.627842</td>\n",
       "      <td>-12883.378940</td>\n",
       "      <td>2301.162509</td>\n",
       "      <td>16057.481102</td>\n",
       "    </tr>\n",
       "    <tr>\n",
       "      <th>4</th>\n",
       "      <td>-21638.723649</td>\n",
       "      <td>14350.569332</td>\n",
       "      <td>739.703468</td>\n",
       "      <td>-25366.172785</td>\n",
       "      <td>-6356.361383</td>\n",
       "      <td>-13270.504686</td>\n",
       "      <td>2514.918974</td>\n",
       "      <td>16782.390676</td>\n",
       "    </tr>\n",
       "  </tbody>\n",
       "</table>\n",
       "</div>"
      ],
      "text/plain": [
       "              1             2           3             4            5  \\\n",
       "0   -750.803511    486.705886   16.329855   -934.211230  -226.426943   \n",
       "1  -4723.440890   3069.026544  116.509932  -5799.878400 -1401.575705   \n",
       "2 -12831.117329   8373.375049  365.076691 -15479.724786 -3743.864216   \n",
       "3 -20211.000688  13285.273611  656.324083 -23913.357629 -5843.627842   \n",
       "4 -21638.723649  14350.569332  739.703468 -25366.172785 -6356.361383   \n",
       "\n",
       "              6            7             8  \n",
       "0   -527.669718    82.016818    645.467436  \n",
       "1  -3249.831866   520.220124   3985.649834  \n",
       "2  -8546.710003  1432.324527  10540.629666  \n",
       "3 -12883.378940  2301.162509  16057.481102  \n",
       "4 -13270.504686  2514.918974  16782.390676  "
      ]
     },
     "execution_count": 93,
     "metadata": {},
     "output_type": "execute_result"
    }
   ],
   "source": [
    "data = pd.read_csv(DATA_FILE)\n",
    "data.head()"
   ]
  },
  {
   "cell_type": "code",
   "execution_count": 94,
   "id": "f4b8ddca",
   "metadata": {},
   "outputs": [
    {
     "data": {
      "text/plain": [
       "(150000, 8)"
      ]
     },
     "execution_count": 94,
     "metadata": {},
     "output_type": "execute_result"
    }
   ],
   "source": [
    "data.shape"
   ]
  },
  {
   "cell_type": "code",
   "execution_count": 95,
   "id": "c3f807ef",
   "metadata": {},
   "outputs": [],
   "source": [
    "train_labels = pd.read_csv(TRAIN_LABELS, index_col=0)\n",
    "test_labels = pd.read_csv(TEST_LABELS, index_col=0)"
   ]
  },
  {
   "cell_type": "code",
   "execution_count": 96,
   "id": "aac5294d",
   "metadata": {},
   "outputs": [
    {
     "data": {
      "text/plain": [
       "(48, 1)"
      ]
     },
     "execution_count": 96,
     "metadata": {},
     "output_type": "execute_result"
    }
   ],
   "source": [
    "train_labels.shape"
   ]
  },
  {
   "cell_type": "code",
   "execution_count": 97,
   "id": "20f52cb6",
   "metadata": {},
   "outputs": [
    {
     "data": {
      "text/plain": [
       "(12, 1)"
      ]
     },
     "execution_count": 97,
     "metadata": {},
     "output_type": "execute_result"
    }
   ],
   "source": [
    "test_labels.shape"
   ]
  },
  {
   "cell_type": "markdown",
   "id": "02e40dec",
   "metadata": {},
   "source": [
    "# Data preprocessing"
   ]
  },
  {
   "cell_type": "code",
   "execution_count": 98,
   "id": "119180e0",
   "metadata": {},
   "outputs": [],
   "source": [
    "df_eeg_data = data[['1', '2', '3', '4', '5', '6', '7', '8']]"
   ]
  },
  {
   "cell_type": "code",
   "execution_count": 99,
   "id": "8d04067d",
   "metadata": {},
   "outputs": [],
   "source": [
    "\n",
    "\n",
    "# Split the data into train, test sets\n",
    "train_data, test_data = train_test_split(df_eeg_data, test_size=0.2, shuffle=False, random_state=13) \n"
   ]
  },
  {
   "cell_type": "code",
   "execution_count": 100,
   "id": "0a34b16b",
   "metadata": {},
   "outputs": [
    {
     "name": "stdout",
     "output_type": "stream",
     "text": [
      "(120000, 8)\n",
      "(30000, 8)\n"
     ]
    }
   ],
   "source": [
    "print(train_data.shape)\n",
    "print(test_data.shape)"
   ]
  },
  {
   "cell_type": "code",
   "execution_count": 101,
   "id": "06d8a5de",
   "metadata": {},
   "outputs": [],
   "source": [
    "# Converting the training and test data into numpy array\n",
    "train_data = train_data.to_numpy()\n",
    "test_data = test_data.to_numpy()"
   ]
  },
  {
   "cell_type": "code",
   "execution_count": 102,
   "id": "8ed34bf4",
   "metadata": {},
   "outputs": [],
   "source": [
    "# Epoch Data into 10 seconds windows\n",
    "\n",
    "# length of window (in seconds)\n",
    "window_length = 10\n",
    "fs = 250\n",
    "window_size_hz = int(window_length*fs)  # window size in Hertz\n",
    "\n",
    "# Epoching train data  (120000/2500 = 48)\n",
    "for filtered in train_data.T:\n",
    "    epoched_train = []\n",
    "    i = 0\n",
    "    while (i < len(train_data)):\n",
    "        epoched_train.append(train_data[i:(i+window_size_hz)])\n",
    "        i += window_size_hz\n",
    "    data_train = np.array(epoched_train)\n",
    "\n",
    "# Epoching Test data \n",
    "for filtered in test_data.T:\n",
    "    epoched_test = []\n",
    "    i = 0\n",
    "    while(i < len(test_data)):\n",
    "        epoched_test.append(test_data[i: (i+window_size_hz)])\n",
    "        i += window_size_hz\n",
    "    data_test = np.array(epoched_test)\n",
    "    "
   ]
  },
  {
   "cell_type": "code",
   "execution_count": 103,
   "id": "bc794972",
   "metadata": {},
   "outputs": [
    {
     "name": "stdout",
     "output_type": "stream",
     "text": [
      "Shape of training data is: (48, 2500, 8)\n",
      "Shape of testing data is : (12, 2500, 8)\n"
     ]
    }
   ],
   "source": [
    "print(f'Shape of training data is: {data_train.shape}')\n",
    "print(f'Shape of testing data is : {data_test.shape}')"
   ]
  },
  {
   "cell_type": "code",
   "execution_count": 104,
   "id": "6016504f",
   "metadata": {},
   "outputs": [],
   "source": [
    "# flattening train and test data sets (if it is alredy flatten, then do nothing)\n",
    "try:\n",
    "    train_labels = train_labels.to_numpy().flatten()\n",
    "    test_labels = test_labels.to_numpy().flatten()\n",
    "except:\n",
    "    pass"
   ]
  },
  {
   "cell_type": "code",
   "execution_count": 105,
   "id": "cdf65ca5",
   "metadata": {},
   "outputs": [
    {
     "name": "stdout",
     "output_type": "stream",
     "text": [
      "Shape of training labels: (48,)\n",
      "Shape of testing lables: (12,)\n"
     ]
    }
   ],
   "source": [
    "print(f'Shape of training labels: {train_labels.shape}')\n",
    "print(f'Shape of testing lables: {test_labels.shape}')"
   ]
  },
  {
   "cell_type": "code",
   "execution_count": 106,
   "id": "ced5e35c",
   "metadata": {},
   "outputs": [],
   "source": [
    "# Converting the training and testing data into wyrm data format\n",
    "# Wyrm is a Brain-Computer Interface Toolbox in Python\n",
    "\n",
    "# Wyrm Data Attributes: 1.axes 2.names 3.units\n",
    "# Initialize the First Attribute (Axes: describes the  dimension of the data)\n",
    "\n",
    "# 1. converting the training data to wyrm data format \n",
    "axes = [np.arange(i) for i in data_train.shape]\n",
    "# Assign the training labes (48) to axes[0]\n",
    "axes[0] = train_labels\n",
    "axes[2] = [str(i) for i in range(data_train.shape[2])]\n",
    "\n",
    "# Initialize the 2nd and 3rd attributes \n",
    "# Name: Describe the name of each dimension of data \n",
    "#Units: The units of the dimensions)\n",
    "names = ['Class', 'Time', 'Channel']\n",
    "units = ['#', 'ms', '#']\n",
    "\n",
    "training_data = Data(data=data_train, axes=axes, names=names, units=units)         # Data is imported from wyrm\n",
    "training_data.fs = fs  # fs = 250\n",
    "\n",
    "# We are dealing with a binary classifcation task. 2 Classes(hands, feet)\n",
    "training_data.class_names = ['hands', 'feet']\n",
    "# Our labels are 1 and 2s. Let's convert them to 0s and 1s for the classification\n",
    "\n",
    "training_data.axes[0][training_data.axes[0] == 2] = 0\n",
    "\n",
    "# 2. converting the testing data to wyrm data format\n",
    "axes = [np.arange(i) for i in data_test.shape]\n",
    "axes[2] = [str(i) for i in range(data_test.shape[2])]\n",
    "# Assign 12 Labels to axes[0]\n",
    "axes[0] = test_labels\n",
    "\n",
    "testing_data = Data(data=data_test, axes=axes, names=names, units=units)\n",
    "testing_data.fs = fs  # fs = 250\n",
    "testing_data.class_names = ['hands', 'feet']\n",
    "testing_data.axes[0][testing_data.axes[0] == 2] = 0\n"
   ]
  },
  {
   "cell_type": "markdown",
   "id": "f34bec40",
   "metadata": {},
   "source": [
    "## Visualizing the data"
   ]
  },
  {
   "cell_type": "code",
   "execution_count": 107,
   "id": "ba372b53",
   "metadata": {},
   "outputs": [
    {
     "data": {
      "text/plain": [
       "Text(0.5, 1.0, 'Time interval plot for test data before processing')"
      ]
     },
     "execution_count": 107,
     "metadata": {},
     "output_type": "execute_result"
    },
    {
     "data": {
      "image/png": "[encoded data removed]",
      "text/plain": [
       "<Figure size 432x288 with 1 Axes>"
      ]
     },
     "metadata": {
      "needs_background": "light"
     },
     "output_type": "display_data"
    },
    {
     "data": {
      "image/png": "[encoded data removed]",
      "text/plain": [
       "<Figure size 432x288 with 1 Axes>"
      ]
     },
     "metadata": {
      "needs_background": "light"
     },
     "output_type": "display_data"
    }
   ],
   "source": [
    "pt.plot_timeinterval(training_data)\n",
    "plt.title(\"Time interval plot for train data before processing\")\n",
    "\n",
    "pt.plot_timeinterval(testing_data)\n",
    "plt.title(\"Time interval plot for test data before processing\") "
   ]
  },
  {
   "cell_type": "code",
   "execution_count": null,
   "id": "0f93eee5",
   "metadata": {},
   "outputs": [],
   "source": []
  },
  {
   "cell_type": "code",
   "execution_count": 108,
   "id": "381bc78c",
   "metadata": {},
   "outputs": [],
   "source": [
    "# Preprocess the data\n",
    "\n",
    "def preprocess_data(train_data, test_data):\n",
    "    \"\"\"\n",
    "        This functionc reduces noise by filtering the data with 0.9 hz high-pass filter and 15 hz low-pass filters.\n",
    "        This is achieved by applying butterworth filters accompanied by low pass and high pass filter.\n",
    "    \"\"\"\n",
    "    fsm = train_data.fs/2\n",
    "    #filtering the training data\n",
    "    c,a = proc.signal.butter(8, [15/fsm], btype='low')  # the proc module is imported from the wyrm package\n",
    "    train_data = proc.lfilter(train_data, c, a)\n",
    "    c,a = proc.signal.butter(8, 0.9/fsm, btype='high')\n",
    "    train_data = proc.lfilter(train_data, c, a)\n",
    "    \n",
    "    #filtering the test data\n",
    "    c,a = proc.signal.butter(8, [15/fsm], btype='low')\n",
    "    test_data = proc.lfilter(test_data, c, a)\n",
    "    c,a = proc.signal.butter(8, 0.9/fsm, btype='high')\n",
    "    test_data = proc.lfilter(test_data, c, a)\n",
    "    \n",
    "    \n",
    "    # plotting the resulting data sets to visualize\n",
    "    pt.plot_timeinterval(train_data)\n",
    "    plt.title(\"Time interval plot for train data after filtering\")\n",
    "    \n",
    "    pt.plot_timeinterval(test_data)\n",
    "    plt.title(\"Time interval plot for test data after filtering\")\n",
    "    \n",
    "    # applying common spatial pattern\n",
    "    filt, pattern, _ = proc.calculate_csp(train_data)\n",
    "    train_data = proc.apply_csp(train_data, filt)\n",
    "    test_data = proc.apply_csp(test_data, filt)\n",
    "    \n",
    "    train_data = proc.variance(train_data, 1)\n",
    "    train_data = proc.logarithm(train_data)\n",
    "    \n",
    "    test_data = proc.variance(test_data, 1)\n",
    "    test_data = proc.logarithm(test_data)\n",
    "    \n",
    "    train_data = proc.rectify_channels(train_data)\n",
    "    test_data = proc.rectify_channels(test_data)\n",
    "    \n",
    "    train_data = proc.square(train_data)\n",
    "    test_data = proc.square(test_data)\n",
    "    \n",
    "    return train_data, test_data"
   ]
  },
  {
   "cell_type": "code",
   "execution_count": 109,
   "id": "85573c50",
   "metadata": {},
   "outputs": [
    {
     "name": "stderr",
     "output_type": "stream",
     "text": [
      "WARNING:wyrm.misc:apply_csp is deprecated since version 1.1. Please use apply_spatial_filter instead.\n",
      "WARNING:wyrm.misc:apply_csp is deprecated since version 1.1. Please use apply_spatial_filter instead.\n"
     ]
    },
    {
     "data": {
      "image/png": "[encoded data removed]",
      "text/plain": [
       "<Figure size 432x288 with 1 Axes>"
      ]
     },
     "metadata": {
      "needs_background": "light"
     },
     "output_type": "display_data"
    },
    {
     "data": {
      "image/png": "[encoded data removed]",
      "text/plain": [
       "<Figure size 432x288 with 1 Axes>"
      ]
     },
     "metadata": {
      "needs_background": "light"
     },
     "output_type": "display_data"
    }
   ],
   "source": [
    "fvtr, fvte = preprocess_data(training_data, testing_data)"
   ]
  },
  {
   "cell_type": "code",
   "execution_count": 119,
   "id": "5eca68c2",
   "metadata": {},
   "outputs": [
    {
     "data": {
      "text/plain": [
       "array([1, 0, 1, 0, 1, 0, 1, 0, 1, 0, 1, 0], dtype=int64)"
      ]
     },
     "execution_count": 119,
     "metadata": {},
     "output_type": "execute_result"
    }
   ],
   "source": [
    "test_labels[test_labels == 2] = 0\n",
    "test_labels"
   ]
  },
  {
   "cell_type": "code",
   "execution_count": 120,
   "id": "10569879",
   "metadata": {},
   "outputs": [
    {
     "data": {
      "text/plain": [
       "array([1., 0., 1., 0., 1., 0., 1., 0., 1., 0., 1., 0.])"
      ]
     },
     "execution_count": 120,
     "metadata": {},
     "output_type": "execute_result"
    }
   ],
   "source": [
    "# convert the test_labels to float\n",
    "labels_test = test_labels/1 \n",
    "labels_test "
   ]
  },
  {
   "cell_type": "code",
   "execution_count": 121,
   "id": "fb236571",
   "metadata": {},
   "outputs": [
    {
     "data": {
      "text/plain": [
       "array([1, 0, 1, 0, 1, 0, 1, 0, 1, 0, 1, 0, 1, 0, 1, 0, 1, 0, 1, 0, 1, 0,\n",
       "       1, 0, 1, 0, 1, 0, 1, 0, 1, 0, 1, 0, 1, 0, 1, 0, 1, 0, 1, 0, 1, 0,\n",
       "       1, 0, 1, 0], dtype=int64)"
      ]
     },
     "execution_count": 121,
     "metadata": {},
     "output_type": "execute_result"
    }
   ],
   "source": [
    "train_labels[train_labels == 2] = 0\n",
    "train_labels"
   ]
  },
  {
   "cell_type": "markdown",
   "id": "c40125b6",
   "metadata": {},
   "source": [
    "## Linear Descriptive Analysis (LDA) Classification"
   ]
  },
  {
   "cell_type": "code",
   "execution_count": 122,
   "id": "132dc047",
   "metadata": {},
   "outputs": [],
   "source": [
    "cfy = proc.lda_train(fvtr)\n",
    "result=proc.lda_apply(fvte,cfy)\n",
    "result1=(np.sign(result)+1)/2"
   ]
  },
  {
   "cell_type": "code",
   "execution_count": 130,
   "id": "f81f4382",
   "metadata": {},
   "outputs": [
    {
     "data": {
      "text/plain": [
       "array([1., 0., 1., 0., 1., 1., 0., 0., 0., 1., 1., 0.])"
      ]
     },
     "execution_count": 130,
     "metadata": {},
     "output_type": "execute_result"
    }
   ],
   "source": [
    "result1"
   ]
  },
  {
   "cell_type": "code",
   "execution_count": 126,
   "id": "337c0fcb",
   "metadata": {},
   "outputs": [],
   "source": [
    "sum=0.0\n",
    "for i in range(len(result1)):\n",
    "    if result1[i]==labels_test[i]:\n",
    "        sum=sum+1\n",
    "lda_acc=sum/(len(result))\n"
   ]
  },
  {
   "cell_type": "code",
   "execution_count": 124,
   "id": "5d55e1c5",
   "metadata": {},
   "outputs": [
    {
     "name": "stdout",
     "output_type": "stream",
     "text": [
      "The accuracy of the LDA model is 66.67%\n"
     ]
    }
   ],
   "source": [
    "print(f\"The accuracy of the LDA model is {lda_acc:.2%}\")"
   ]
  },
  {
   "cell_type": "code",
   "execution_count": 125,
   "id": "57bcced2",
   "metadata": {},
   "outputs": [],
   "source": [
    "# Let's create a confusion matrix to visualize the results\n",
    "def conf_metrics (conf_mat):\n",
    "# save confusion matrix and slice into four pieces\n",
    "    TP = conf_mat[1][1]\n",
    "    TN = conf_mat[0][0]\n",
    "    FP = conf_mat[0][1]\n",
    "    FN = conf_mat[1][0]\n",
    "    print(f\"True Positives: {TP}\")\n",
    "    print(f\"True Negatives: {TN}\")\n",
    "    print(f\"False Positives: {FP}\")\n",
    "    print(f\"False Negatives: {FN}\")\n",
    "    # calculate accuracy\n",
    "    conf_accuracy = (float (TP+TN) / float(TP + TN + FP + FN))\n",
    "    \n",
    "    # calculate mis-classification\n",
    "    conf_misclassification = 1- conf_accuracy\n",
    "    \n",
    "    # calculate the sensitivity\n",
    "    conf_sensitivity = (TP / float(TP + FN))\n",
    "    # calculate the specificity\n",
    "    conf_specificity = (TN / float(TN + FP))\n",
    "    \n",
    "    # calculate precision\n",
    "    conf_precision = (TP / float(TP + FP))\n",
    "    # calculate f_1 score\n",
    "    conf_f1 = 2 * ((conf_precision * conf_sensitivity) / (conf_precision + conf_sensitivity))\n",
    "    \n",
    "    print('-'*60)  # for decoration purpose\n",
    "    print(f'Accuracy: {round(conf_accuracy,2)}') \n",
    "    print(f'Mis-Classification: {round(conf_misclassification,2)}') \n",
    "    print(f'Sensitivity: {round(conf_sensitivity,2)}') \n",
    "    print(f'Specificity: {round(conf_specificity,2)}') \n",
    "    print(f'Precision: {round(conf_precision,2)}')\n",
    "    print(f'f_1 Score: {round(conf_f1,2)}')"
   ]
  },
  {
   "cell_type": "code",
   "execution_count": 64,
   "id": "37f0b521",
   "metadata": {},
   "outputs": [
    {
     "name": "stdout",
     "output_type": "stream",
     "text": [
      "True Positives: 4\n",
      "True Negatives: 4\n",
      "False Positives: 2\n",
      "False Negatives: 2\n",
      "------------------------------------------------------------\n",
      "Accuracy: 0.67\n",
      "Mis-Classification: 0.33\n",
      "Sensitivity: 0.67\n",
      "Specificity: 0.67\n",
      "Precision: 0.67\n",
      "f_1 Score: 0.67\n"
     ]
    }
   ],
   "source": [
    "conf_m = confusion_matrix(test_labels, result1)\n",
    "\n",
    "conf_metrics(conf_m)"
   ]
  },
  {
   "cell_type": "markdown",
   "id": "6469b908",
   "metadata": {},
   "source": [
    "## RandomForest Classifier"
   ]
  },
  {
   "cell_type": "code",
   "execution_count": 75,
   "id": "c0777522",
   "metadata": {},
   "outputs": [],
   "source": [
    "rf_model = RandomForestClassifier(max_depth=5, n_estimators=50, n_jobs=1)\n",
    "rf_model.fit(fvtr.data, train_labels)\n",
    "\n",
    "rf_model_predict = rf_model.predict(fvte.data)\n",
    "rf_model_acc = accuracy_score(test_labels, rf_model_predict)"
   ]
  },
  {
   "cell_type": "code",
   "execution_count": 76,
   "id": "53cd7f8d",
   "metadata": {},
   "outputs": [
    {
     "name": "stdout",
     "output_type": "stream",
     "text": [
      "True Positives: 3\n",
      "True Negatives: 3\n",
      "False Positives: 3\n",
      "False Negatives: 3\n",
      "------------------------------------------------------------\n",
      "Accuracy: 0.5\n",
      "Mis-Classification: 0.5\n",
      "Sensitivity: 0.5\n",
      "Specificity: 0.5\n",
      "Precision: 0.5\n",
      "f_1 Score: 0.5\n"
     ]
    }
   ],
   "source": [
    "cm = confusion_matrix(test_labels, rf_model_predict)\n",
    "conf_metrics(cm)"
   ]
  },
  {
   "cell_type": "markdown",
   "id": "0b0dc8bf",
   "metadata": {},
   "source": [
    "## K-Nearest Neighbors Classifier"
   ]
  },
  {
   "cell_type": "code",
   "execution_count": 84,
   "id": "b5ba2f0a",
   "metadata": {},
   "outputs": [],
   "source": [
    "knn = KNeighborsClassifier()\n",
    "knn.fit(fvtr.data, train_labels)\n",
    "\n",
    "knn_pred = knn.predict(fvte.data)\n",
    "k_acc = accuracy_score(test_labels, knn_pred)"
   ]
  },
  {
   "cell_type": "code",
   "execution_count": 85,
   "id": "4d601b05",
   "metadata": {},
   "outputs": [
    {
     "name": "stdout",
     "output_type": "stream",
     "text": [
      "True Positives: 4\n",
      "True Negatives: 2\n",
      "False Positives: 4\n",
      "False Negatives: 2\n",
      "------------------------------------------------------------\n",
      "Accuracy: 0.5\n",
      "Mis-Classification: 0.5\n",
      "Sensitivity: 0.67\n",
      "Specificity: 0.33\n",
      "Precision: 0.5\n",
      "f_1 Score: 0.57\n"
     ]
    }
   ],
   "source": [
    "cm = confusion_matrix(test_labels, knn_pred)\n",
    "conf_metrics(cm)"
   ]
  },
  {
   "cell_type": "markdown",
   "id": "5cbc4900",
   "metadata": {},
   "source": [
    "## Model comparison"
   ]
  },
  {
   "cell_type": "code",
   "execution_count": 87,
   "id": "b6a659eb",
   "metadata": {},
   "outputs": [
    {
     "data": {
      "text/plain": [
       "Text(0.5, 0, 'Accuracy in percentage')"
      ]
     },
     "execution_count": 87,
     "metadata": {},
     "output_type": "execute_result"
    },
    {
     "data": {
      "image/png": "[encoded data removed]",
      "text/plain": [
       "<Figure size 432x288 with 1 Axes>"
      ]
     },
     "metadata": {
      "needs_background": "light"
     },
     "output_type": "display_data"
    }
   ],
   "source": [
    "X_bar = ['KNN', 'RandomForestClassifier', 'LDA']\n",
    "Y_bar = [k_acc*100, rf_model_acc*100, lda_acc*100]\n",
    "\n",
    "plt.barh(X_bar, Y_bar, align='center', color=('#EEA773', '#BE20E7', '#F54B48'))\n",
    "plt.title(\"Comparison of the various models\")\n",
    "plt.xlabel(\"Accuracy in percentage\")\n"
   ]
  },
  {
   "cell_type": "code",
   "execution_count": null,
   "id": "5f96ed8c",
   "metadata": {},
   "outputs": [],
   "source": []
  }
 ],
 "metadata": {
  "kernelspec": {
   "display_name": "Python 3 (ipykernel)",
   "language": "python",
   "name": "python3"
  },
  "language_info": {
   "codemirror_mode": {
    "name": "ipython",
    "version": 3
   },
   "file_extension": ".py",
   "mimetype": "text/x-python",
   "name": "python",
   "nbconvert_exporter": "python",
   "pygments_lexer": "ipython3",
   "version": "3.9.12"
  }
 },
 "nbformat": 4,
 "nbformat_minor": 5
}
